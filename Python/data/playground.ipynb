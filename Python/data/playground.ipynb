{
 "cells": [
  {
   "cell_type": "code",
   "execution_count": 3,
   "metadata": {},
   "outputs": [],
   "source": [
    "import pandas as pd"
   ]
  },
  {
   "cell_type": "code",
   "execution_count": 4,
   "metadata": {},
   "outputs": [],
   "source": [
    "df_step1_1 = pd.read_csv('step1.1.csv')\n",
    "df_step1_2 = pd.read_csv('step1.2.csv')"
   ]
  },
  {
   "cell_type": "code",
   "execution_count": 6,
   "metadata": {},
   "outputs": [
    {
     "name": "stdout",
     "output_type": "stream",
     "text": [
      "<class 'pandas.core.frame.DataFrame'>\n",
      "RangeIndex: 478999 entries, 0 to 478998\n",
      "Data columns (total 36 columns):\n",
      " #   Column    Non-Null Count   Dtype  \n",
      "---  ------    --------------   -----  \n",
      " 0   gvkey     478999 non-null  int64  \n",
      " 1   datadate  478999 non-null  object \n",
      " 2   fyear     478630 non-null  float64\n",
      " 3   indfmt    478999 non-null  object \n",
      " 4   consol    478999 non-null  object \n",
      " 5   popsrc    478999 non-null  object \n",
      " 6   datafmt   478999 non-null  object \n",
      " 7   tic       478792 non-null  object \n",
      " 8   cusip     478817 non-null  object \n",
      " 9   conm      478999 non-null  object \n",
      " 10  curcd     478630 non-null  object \n",
      " 11  acqsc     7387 non-null    float64\n",
      " 12  act       299696 non-null  float64\n",
      " 13  aqs       204382 non-null  float64\n",
      " 14  at        396463 non-null  float64\n",
      " 15  ebit      348713 non-null  float64\n",
      " 16  lct       302984 non-null  float64\n",
      " 17  lt        395577 non-null  float64\n",
      " 18  re        384894 non-null  float64\n",
      " 19  rea       274366 non-null  float64\n",
      " 20  reajo     340274 non-null  float64\n",
      " 21  recta     340926 non-null  float64\n",
      " 22  reuna     336931 non-null  float64\n",
      " 23  reunr     37278 non-null   float64\n",
      " 24  sale      354949 non-null  float64\n",
      " 25  salepfc   7238 non-null    float64\n",
      " 26  salepfp   6242 non-null    float64\n",
      " 27  unwcc     835 non-null     float64\n",
      " 28  uwkcapc   835 non-null     float64\n",
      " 29  wcap      297555 non-null  float64\n",
      " 30  wcapc     25156 non-null   float64\n",
      " 31  wcapch    14741 non-null   float64\n",
      " 32  costat    478999 non-null  object \n",
      " 33  mkvalt    216823 non-null  float64\n",
      " 34  conml     478998 non-null  object \n",
      " 35  ipodate   180861 non-null  object \n",
      "dtypes: float64(23), int64(1), object(12)\n",
      "memory usage: 131.6+ MB\n"
     ]
    }
   ],
   "source": [
    "df_step1_1"
   ]
  },
  {
   "cell_type": "code",
   "execution_count": 7,
   "metadata": {},
   "outputs": [
    {
     "name": "stdout",
     "output_type": "stream",
     "text": [
      "<class 'pandas.core.frame.DataFrame'>\n",
      "RangeIndex: 478999 entries, 0 to 478998\n",
      "Data columns (total 27 columns):\n",
      " #   Column    Non-Null Count   Dtype  \n",
      "---  ------    --------------   -----  \n",
      " 0   gvkey     478999 non-null  int64  \n",
      " 1   datadate  478999 non-null  object \n",
      " 2   fyear     478630 non-null  float64\n",
      " 3   indfmt    478999 non-null  object \n",
      " 4   consol    478999 non-null  object \n",
      " 5   popsrc    478999 non-null  object \n",
      " 6   datafmt   478999 non-null  object \n",
      " 7   tic       478792 non-null  object \n",
      " 8   curcd     478630 non-null  object \n",
      " 9   act       299696 non-null  float64\n",
      " 10  at        396463 non-null  float64\n",
      " 11  ebit      348713 non-null  float64\n",
      " 12  ebitda    346422 non-null  float64\n",
      " 13  lct       302984 non-null  float64\n",
      " 14  lt        395577 non-null  float64\n",
      " 15  re        384894 non-null  float64\n",
      " 16  rea       274366 non-null  float64\n",
      " 17  reajo     340274 non-null  float64\n",
      " 18  recta     340926 non-null  float64\n",
      " 19  reuna     336931 non-null  float64\n",
      " 20  reunr     37278 non-null   float64\n",
      " 21  sale      354949 non-null  float64\n",
      " 22  wcap      297555 non-null  float64\n",
      " 23  wcapc     25156 non-null   float64\n",
      " 24  wcapch    14741 non-null   float64\n",
      " 25  costat    478999 non-null  object \n",
      " 26  mkvalt    216823 non-null  float64\n",
      "dtypes: float64(18), int64(1), object(8)\n",
      "memory usage: 98.7+ MB\n"
     ]
    }
   ],
   "source": [
    "df_step1_2.info()"
   ]
  },
  {
   "cell_type": "code",
   "execution_count": 5,
   "metadata": {},
   "outputs": [
    {
     "name": "stdout",
     "output_type": "stream",
     "text": [
      "False\n"
     ]
    }
   ],
   "source": [
    "print(df_step1_1.equals(df_step1_2))"
   ]
  }
 ],
 "metadata": {
  "kernelspec": {
   "display_name": "thesisenv1",
   "language": "python",
   "name": "python3"
  },
  "language_info": {
   "codemirror_mode": {
    "name": "ipython",
    "version": 3
   },
   "file_extension": ".py",
   "mimetype": "text/x-python",
   "name": "python",
   "nbconvert_exporter": "python",
   "pygments_lexer": "ipython3",
   "version": "3.11.8"
  }
 },
 "nbformat": 4,
 "nbformat_minor": 2
}
