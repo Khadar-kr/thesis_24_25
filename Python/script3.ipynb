{
 "cells": [
  {
   "cell_type": "code",
   "execution_count": null,
   "metadata": {},
   "outputs": [],
   "source": [
    "import pandas as pd\n",
    "import numpy as np\n",
    "import matplotlib.pyplot as plt"
   ]
  },
  {
   "cell_type": "code",
   "execution_count": null,
   "metadata": {},
   "outputs": [],
   "source": [
    "df_final=pd.read_csv('data/output/final_Data.csv')\n",
    "df_final.info()"
   ]
  },
  {
   "cell_type": "code",
   "execution_count": null,
   "metadata": {},
   "outputs": [],
   "source": [
    "df_final_data_copy = df_final.copy()\n",
    "df_final_data_copy.drop(columns=['reuna','issuer','issue','check_digit','issuer+issue','gvkey'], inplace=True)\n",
    "df_final_data_copy['datadate']= pd.to_datetime(df_final_data_copy['datadate'])\n",
    "df_final_data_copy['fyear'] =  df_final_data_copy.apply(lambda row: row['fyear'] if not pd.isna(row['fyear']) else row['datadate'].year,axis=1)\n",
    "df_final_data_copy['fyear'] = df_final_data_copy['fyear'].astype(int)\n",
    "columns_of_ratios = ['liquidity','re/at','profitability','mkvalt/lt','AssetTurnoverRatio']"
   ]
  },
  {
   "cell_type": "code",
   "execution_count": null,
   "metadata": {},
   "outputs": [],
   "source": [
    "# showing different counts of financial and industrial data\n",
    "value_counts = df_final_data_copy['indfmt'].value_counts()\n",
    "print(value_counts)\n",
    "value_counts.plot(kind='bar')"
   ]
  },
  {
   "cell_type": "code",
   "execution_count": null,
   "metadata": {},
   "outputs": [],
   "source": [
    "df_financial_data = df_final_data_copy[df_final_data_copy['indfmt']=='FS']\n",
    "df_industrial_data = df_final_data_copy[df_final_data_copy['indfmt']=='INDL']"
   ]
  },
  {
   "cell_type": "code",
   "execution_count": null,
   "metadata": {},
   "outputs": [],
   "source": [
    "nas_in_finanical_data = df_financial_data[columns_of_ratios].isna().sum()\n",
    "print(nas_in_finanical_data)\n",
    "nas_in_finanical_data.plot(kind='bar',title=\"NaNs Counts of financial\")"
   ]
  },
  {
   "cell_type": "code",
   "execution_count": null,
   "metadata": {},
   "outputs": [],
   "source": [
    "nas_in_industrial_data = df_industrial_data[columns_of_ratios].isna().sum()\n",
    "print(nas_in_industrial_data)\n",
    "nas_in_industrial_data.plot(kind='bar',title=\"NaNs Counts of industrial\",xlabel='ratio',ylabel='Nans Counts')"
   ]
  },
  {
   "cell_type": "code",
   "execution_count": null,
   "metadata": {},
   "outputs": [],
   "source": [
    "df_industrial_data['gsector'] = df_industrial_data['gsector'].replace([np.inf, -np.inf], np.nan)\n",
    "df_industrial_data['gsector'] = df_industrial_data['gsector'].fillna(0)\n",
    "\n"
   ]
  },
  {
   "cell_type": "code",
   "execution_count": null,
   "metadata": {},
   "outputs": [],
   "source": [
    "df_industrial_data['gsector'] = df_industrial_data['gsector'].astype(int)"
   ]
  },
  {
   "cell_type": "code",
   "execution_count": null,
   "metadata": {},
   "outputs": [],
   "source": [
    "induatrial_value_countss = df_industrial_data['gsector'].value_counts()\n",
    "print(induatrial_value_countss)\n",
    "induatrial_value_countss.plot(kind='bar',title='Value Counts of industrial sectors',xlabel='sector code',ylabel='No of rows')"
   ]
  },
  {
   "cell_type": "code",
   "execution_count": null,
   "metadata": {},
   "outputs": [],
   "source": [
    "# Group by 'gsector' and count the number of NaN values in the specified columns\n",
    "nan_counts_by_ratio = df_industrial_data.groupby('gsector')[columns_of_ratios].apply(lambda x: x.isna().sum())\n",
    "nan_counts = df_industrial_data.groupby('gsector')[columns_of_ratios].apply(lambda x: x.isna().sum().sum())\n",
    "# Display the result\n",
    "print(nan_counts_by_ratio)\n",
    "\n",
    "nan_counts_by_ratio.plot(kind='bar')\n",
    "plt.title('NaNs Counts By ratios per sector')\n",
    "plt.xlabel('ratio')\n",
    "plt.ylabel('Nans Counts')\n",
    "plt.show()\n",
    "\n",
    "print(nan_counts)\n",
    "nan_counts.plot(kind='bar',title='NaNs Counts By Sector',xlabel='Sector',ylabel='Nans Counts')\n"
   ]
  },
  {
   "cell_type": "code",
   "execution_count": null,
   "metadata": {},
   "outputs": [],
   "source": [
    "percentage_nan = (nan_counts / (induatrial_value_countss*5)) * 100\n",
    "print(percentage_nan)\n",
    "percentage_nan.plot(kind='bar',title='Percentage of NaN by sector',xlabel='sector code',ylabel='Percentage')\n",
    "\n"
   ]
  },
  {
   "cell_type": "markdown",
   "metadata": {},
   "source": [
    "# Selecting Sector code 35 (Health Care) , as it has lowest percentage of NaN values, and also comparatively high number of rows ( 3rd position)"
   ]
  },
  {
   "cell_type": "code",
   "execution_count": null,
   "metadata": {},
   "outputs": [],
   "source": [
    "df =df_industrial_data[df_industrial_data['gsector']==35]\n",
    "df"
   ]
  },
  {
   "cell_type": "code",
   "execution_count": null,
   "metadata": {},
   "outputs": [],
   "source": [
    "values = df['fyear'].value_counts()\n",
    "print(values)\n",
    "values.plot(kind='bar',title='Value Counts of years in sector 35',xlabel='year',ylabel='No of rows')\n"
   ]
  },
  {
   "cell_type": "code",
   "execution_count": null,
   "metadata": {},
   "outputs": [],
   "source": [
    "df_new =df[(df['fyear']>2010)&(df['fyear']<2020)]\n"
   ]
  },
  {
   "cell_type": "code",
   "execution_count": null,
   "metadata": {},
   "outputs": [],
   "source": [
    "df_new"
   ]
  },
  {
   "cell_type": "code",
   "execution_count": null,
   "metadata": {},
   "outputs": [],
   "source": [
    "df_pivot1 = df_new.pivot_table(index=['cusip','conm','PERMNO','DLSTCD','HCOMNAM','HEXCD','BEGDAT','ENDDAT','ipodate'], columns='fyear', values=['liquidity','re/at','profitability','mkvalt/lt','AssetTurnoverRatio'])\n",
    "df_pivot1.columns= [f'{year}-{ratio}' for ratio, year in df_pivot1.columns]\n",
    "# Reset the index to make 'Company' a column again\n",
    "df_pivot1.reset_index(inplace=True)\n",
    "\n",
    "# Display the reshaped DataFrame\n",
    "df_pivot1"
   ]
  },
  {
   "cell_type": "code",
   "execution_count": null,
   "metadata": {},
   "outputs": [],
   "source": [
    "selected_columns = df_pivot1.iloc[:, 9:]\n",
    "# Count the number of NaN values in each row\n",
    "nan_counts_per_row = selected_columns.isna().sum(axis=1)\n",
    "print(\"Number of NaN values in each row:\")\n",
    "print(nan_counts_per_row)"
   ]
  },
  {
   "cell_type": "code",
   "execution_count": null,
   "metadata": {},
   "outputs": [],
   "source": [
    "df = pd.DataFrame(selected_columns)\n",
    "print(df.shape)\n",
    "print(df[(nan_counts_per_row>40)].shape[0])\n",
    "print(df[(nan_counts_per_row>30)].shape[0])\n",
    "print(df[(nan_counts_per_row>20)].shape[0])\n",
    "print(df[(nan_counts_per_row>10)].shape[0])\n",
    "\n"
   ]
  },
  {
   "cell_type": "code",
   "execution_count": null,
   "metadata": {},
   "outputs": [],
   "source": [
    "rows_to_remove = nan_counts_per_row[nan_counts_per_row > 30].index\n",
    "df_pivot_after_dropping_nans= df_pivot1.drop(rows_to_remove)\n",
    "df_pivot_after_dropping_nans"
   ]
  },
  {
   "cell_type": "code",
   "execution_count": null,
   "metadata": {},
   "outputs": [],
   "source": [
    "selected_columns1 = df_pivot_after_dropping_nans.iloc[:, 9:]\n",
    "# Count the number of NaN values in each row\n",
    "nan_counts_per_row1 = selected_columns.isna().sum(axis=1)\n",
    "print(\"Number of NaN values in each row:\")\n",
    "print(nan_counts_per_row1)\n",
    "df = pd.DataFrame(selected_columns1)\n",
    "print(df.shape)\n",
    "print(df[(nan_counts_per_row1>40)].shape[0])\n",
    "print(df[(nan_counts_per_row1>30)].shape[0])\n",
    "print(df[(nan_counts_per_row1>20)].shape[0])\n",
    "print(df[(nan_counts_per_row1>10)].shape[0])\n"
   ]
  },
  {
   "cell_type": "markdown",
   "metadata": {},
   "source": [
    "## Imputing the entire data set df_pivot1"
   ]
  },
  {
   "cell_type": "code",
   "execution_count": null,
   "metadata": {},
   "outputs": [],
   "source": [
    "import numpy as np\n",
    "from py_soft_impute.soft_impute import SoftImpute\n",
    "df_pivot_to_impute = df_pivot1.iloc[:, 9:]\n",
    "df_pivot_to_impute.replace([np.inf, -np.inf], np.nan, inplace=True)\n",
    "df_pivot_to_impute.fillna(0, inplace=True)"
   ]
  },
  {
   "cell_type": "code",
   "execution_count": null,
   "metadata": {},
   "outputs": [],
   "source": [
    "clf = SoftImpute(J=2, lambda_=0.0)\n",
    "fit = clf.fit(df_pivot_to_impute.values)\n",
    "pivot_impute = clf.predict(df_pivot_to_impute.values)\n",
    "pivot_impute"
   ]
  },
  {
   "cell_type": "code",
   "execution_count": null,
   "metadata": {},
   "outputs": [],
   "source": [
    "new_df = pd.DataFrame(pivot_impute, columns=df_pivot_to_impute.columns)\n",
    "df_pivot1_imputed= df_pivot1.copy()\n",
    "df_pivot1_imputed.iloc[:, 9:] = new_df"
   ]
  },
  {
   "cell_type": "code",
   "execution_count": null,
   "metadata": {},
   "outputs": [],
   "source": [
    "df_pivot1_imputed"
   ]
  },
  {
   "cell_type": "code",
   "execution_count": null,
   "metadata": {},
   "outputs": [],
   "source": [
    "df_pivot1_imputed.to_csv('data/output/df_pivot1_imputed.csv', index=False)"
   ]
  },
  {
   "cell_type": "markdown",
   "metadata": {},
   "source": [
    "## imputing the df after removing rows df_pivot_after_dropping_nans"
   ]
  },
  {
   "cell_type": "code",
   "execution_count": null,
   "metadata": {},
   "outputs": [],
   "source": [
    "import numpy as np\n",
    "from py_soft_impute.soft_impute import SoftImpute\n",
    "df_pivot_after_dropping_nans_to_impute = df_pivot_after_dropping_nans.iloc[:, 9:]\n",
    "df_pivot_after_dropping_nans_to_impute.replace([np.inf, -np.inf], np.nan, inplace=True)\n",
    "df_pivot_after_dropping_nans_to_impute.fillna(0, inplace=True)\n",
    "\n",
    "clf = SoftImpute(J=2, lambda_=0.0)\n",
    "fit = clf.fit(df_pivot_after_dropping_nans_to_impute.values)\n",
    "imputed_array = clf.predict(df_pivot_after_dropping_nans_to_impute.values)\n",
    "imputed_array"
   ]
  },
  {
   "cell_type": "code",
   "execution_count": null,
   "metadata": {},
   "outputs": [],
   "source": [
    "new_df1 = pd.DataFrame(imputed_array, columns=df_pivot_after_dropping_nans_to_impute.columns)\n",
    "df_pivot_after_dropping_nans_imputed= df_pivot_after_dropping_nans.copy()\n",
    "df_pivot_after_dropping_nans_imputed.iloc[:, 9:] = new_df1\n",
    "df_pivot_after_dropping_nans_imputed"
   ]
  },
  {
   "cell_type": "code",
   "execution_count": null,
   "metadata": {},
   "outputs": [],
   "source": [
    "df_pivot_after_dropping_nans_imputed.to_csv('data/output/df_pivot_after_dropping_nans_imputed.csv', index=False)"
   ]
  }
 ],
 "metadata": {
  "kernelspec": {
   "display_name": "thesisenv1",
   "language": "python",
   "name": "python3"
  },
  "language_info": {
   "codemirror_mode": {
    "name": "ipython",
    "version": 3
   },
   "file_extension": ".py",
   "mimetype": "text/x-python",
   "name": "python",
   "nbconvert_exporter": "python",
   "pygments_lexer": "ipython3",
   "version": "3.11.8"
  }
 },
 "nbformat": 4,
 "nbformat_minor": 2
}
